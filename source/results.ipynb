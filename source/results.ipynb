{
 "cells": [
  {
   "cell_type": "markdown",
   "metadata": {},
   "source": [
    "# Analysis of Regression Results\n",
    "\n",
    "## Overview\n",
    "This notebook presents the results from various regression models. We aim to compare the performance of each model and draw meaningful conclusions about their predictive capabilities for the report."
   ]
  },
  {
   "cell_type": "code",
   "execution_count": 3,
   "metadata": {},
   "outputs": [],
   "source": [
    "from ridge_regression import RidgeRegression\n",
    "import data_utils\n",
    "\n",
    "%load_ext autoreload\n",
    "%autoreload 2\n",
    "\n",
    "linear = RidgeRegression(0)\n",
    "ridge = RidgeRegression(1)"
   ]
  },
  {
   "cell_type": "code",
   "execution_count": 4,
   "metadata": {},
   "outputs": [],
   "source": [
    "train_ny, test_ny = data_utils.load_newyork(17)\n",
    "train_was, test_was = data_utils.load_washington(17)\n",
    "train_bos, test_bos = data_utils.load_boston(17)\n",
    "train_ex, test_ex = data_utils.load_extended_boston(17)\n",
    "train_cal, test_cal = data_utils.load_california(17)"
   ]
  },
  {
   "cell_type": "code",
   "execution_count": 69,
   "metadata": {},
   "outputs": [
    {
     "name": "stdout",
     "output_type": "stream",
     "text": [
      "0.6849257934697055\n",
      "1131201804680.6782\n"
     ]
    }
   ],
   "source": [
    "linear.train(train_ny)\n",
    "print(linear.r_score())\n",
    "print(linear.mse)"
   ]
  },
  {
   "cell_type": "code",
   "execution_count": 70,
   "metadata": {},
   "outputs": [
    {
     "name": "stdout",
     "output_type": "stream",
     "text": [
      "0.6689971588802188\n",
      "887183715892.5913\n"
     ]
    }
   ],
   "source": [
    "linear.test(test_ny)\n",
    "print(linear.r_score())\n",
    "print(linear.mse)"
   ]
  },
  {
   "cell_type": "code",
   "execution_count": 71,
   "metadata": {},
   "outputs": [
    {
     "name": "stdout",
     "output_type": "stream",
     "text": [
      "0.2146660875553449\n",
      "268361027051.496\n"
     ]
    }
   ],
   "source": [
    "linear.train(train_was)\n",
    "print(linear.r_score())\n",
    "print(linear.mse)"
   ]
  },
  {
   "cell_type": "code",
   "execution_count": 72,
   "metadata": {},
   "outputs": [
    {
     "name": "stdout",
     "output_type": "stream",
     "text": [
      "0.2273321995018438\n",
      "190219825622.26248\n"
     ]
    }
   ],
   "source": [
    "linear.test(test_was)\n",
    "print(linear.r_score())\n",
    "print(linear.mse)"
   ]
  },
  {
   "cell_type": "code",
   "execution_count": 73,
   "metadata": {},
   "outputs": [
    {
     "name": "stdout",
     "output_type": "stream",
     "text": [
      "0.7303884158092541\n",
      "23.362241671561097\n"
     ]
    }
   ],
   "source": [
    "linear.train(train_bos)\n",
    "print(linear.r_score())\n",
    "print(linear.mse)"
   ]
  },
  {
   "cell_type": "code",
   "execution_count": 74,
   "metadata": {},
   "outputs": [
    {
     "name": "stdout",
     "output_type": "stream",
     "text": [
      "0.7663974484223854\n",
      "18.114721086711175\n"
     ]
    }
   ],
   "source": [
    "linear.test(test_bos)\n",
    "print(linear.r_score())\n",
    "print(linear.mse)"
   ]
  },
  {
   "cell_type": "code",
   "execution_count": 75,
   "metadata": {},
   "outputs": [
    {
     "name": "stdout",
     "output_type": "stream",
     "text": [
      "0.9423892279654961\n",
      "4.992058420616967\n"
     ]
    }
   ],
   "source": [
    "linear.train(train_ex)\n",
    "print(linear.r_score())\n",
    "print(linear.mse)"
   ]
  },
  {
   "cell_type": "code",
   "execution_count": 76,
   "metadata": {},
   "outputs": [
    {
     "name": "stdout",
     "output_type": "stream",
     "text": [
      "0.838611345073881\n",
      "12.51489100098628\n"
     ]
    }
   ],
   "source": [
    "linear.test(test_ex)\n",
    "print(linear.r_score())\n",
    "print(linear.mse)"
   ]
  },
  {
   "cell_type": "code",
   "execution_count": 77,
   "metadata": {},
   "outputs": [
    {
     "name": "stdout",
     "output_type": "stream",
     "text": [
      "0.6077669420281298\n",
      "0.5242882100946792\n"
     ]
    }
   ],
   "source": [
    "linear.train(train_cal)\n",
    "print(linear.r_score())\n",
    "print(linear.mse)"
   ]
  },
  {
   "cell_type": "code",
   "execution_count": 78,
   "metadata": {},
   "outputs": [
    {
     "name": "stdout",
     "output_type": "stream",
     "text": [
      "0.6006728254450008\n",
      "0.5255634044896279\n"
     ]
    }
   ],
   "source": [
    "linear.test(test_cal)\n",
    "print(linear.r_score())\n",
    "print(linear.mse)"
   ]
  },
  {
   "cell_type": "code",
   "execution_count": 79,
   "metadata": {},
   "outputs": [
    {
     "name": "stdout",
     "output_type": "stream",
     "text": [
      "0.6848588330182799\n",
      "1131442210851.4307\n",
      "0.6721669364918786\n",
      "878687791596.1354\n"
     ]
    }
   ],
   "source": [
    "ridge.train(train_ny)\n",
    "print(ridge.r_score())\n",
    "print(ridge.mse)\n",
    "ridge.test(test_ny)\n",
    "print(ridge.r_score())\n",
    "print(ridge.mse)"
   ]
  },
  {
   "cell_type": "code",
   "execution_count": 80,
   "metadata": {},
   "outputs": [
    {
     "name": "stdout",
     "output_type": "stream",
     "text": [
      "0.2146596529457213\n",
      "268363225859.44238\n",
      "0.2275926238141921\n",
      "190155712859.6357\n"
     ]
    }
   ],
   "source": [
    "ridge.train(train_was)\n",
    "print(ridge.r_score())\n",
    "print(ridge.mse)\n",
    "ridge.test(test_was)\n",
    "print(ridge.r_score())\n",
    "print(ridge.mse)"
   ]
  },
  {
   "cell_type": "code",
   "execution_count": 81,
   "metadata": {},
   "outputs": [
    {
     "name": "stdout",
     "output_type": "stream",
     "text": [
      "0.7281570340322314\n",
      "23.555594195684986\n",
      "0.7607124630940674\n",
      "18.555563547159693\n"
     ]
    }
   ],
   "source": [
    "ridge.train(train_bos)\n",
    "print(ridge.r_score())\n",
    "print(ridge.mse)\n",
    "ridge.test(test_bos)\n",
    "print(ridge.r_score())\n",
    "print(ridge.mse)"
   ]
  },
  {
   "cell_type": "code",
   "execution_count": 82,
   "metadata": {},
   "outputs": [
    {
     "name": "stdout",
     "output_type": "stream",
     "text": [
      "0.8624259623180445\n",
      "11.920993401323653\n",
      "0.8532359944094008\n",
      "11.380821865547588\n"
     ]
    }
   ],
   "source": [
    "ridge.train(train_ex)\n",
    "print(ridge.r_score())\n",
    "print(ridge.mse)\n",
    "ridge.test(test_ex)\n",
    "print(ridge.r_score())\n",
    "print(ridge.mse)"
   ]
  },
  {
   "cell_type": "code",
   "execution_count": 83,
   "metadata": {},
   "outputs": [
    {
     "name": "stdout",
     "output_type": "stream",
     "text": [
      "0.607766903723707\n",
      "0.5242882612952519\n",
      "0.6006616017047446\n",
      "0.5255781763046107\n"
     ]
    }
   ],
   "source": [
    "ridge.train(train_cal)\n",
    "print(ridge.r_score())\n",
    "print(ridge.mse)\n",
    "ridge.test(test_cal)\n",
    "print(ridge.r_score())\n",
    "print(ridge.mse)"
   ]
  },
  {
   "cell_type": "code",
   "execution_count": 84,
   "metadata": {},
   "outputs": [
    {
     "name": "stdout",
     "output_type": "stream",
     "text": [
      "New York & 1131201804680.6782 & 887183715892.5913 & 1131442210851.4307 & 878687791596.1354 \\\\\n",
      "Washington & 268361027051.4960 & 190219825622.2625 & 268363225859.4424 & 190155712859.6357 \\\\\n",
      "Boston & 23.3622 & 18.1147 & 23.5556 & 18.5556 \\\\\n",
      "Extended Boston & 4.9921 & 12.5149 & 11.9210 & 11.3808 \\\\\n",
      "California & 0.5243 & 0.5256 & 0.5243 & 0.5256 \\\\\n"
     ]
    }
   ],
   "source": [
    "datasets = [\n",
    "    ('New York', train_ny, test_ny),\n",
    "    ('Washington', train_was, test_was),\n",
    "    ('Boston', train_bos, test_bos),\n",
    "    ('Extended Boston', train_ex, test_ex),\n",
    "    ('California', train_cal, test_cal)\n",
    "]\n",
    "\n",
    "# Initialize an empty list to store table rows\n",
    "table_rows = []\n",
    "\n",
    "# Iterate through datasets to train, test, and calculate scores\n",
    "for name, train_data, test_data in datasets:\n",
    "    # Train and test linear regression\n",
    "    linear.train(train_data)\n",
    "    linear_mse_train = linear.mse\n",
    "    linear.test(test_data)\n",
    "    linear_mse_test = linear.mse\n",
    "    # Train and test ridge regression\n",
    "    ridge.train(train_data)\n",
    "    ridge_mse_train = ridge.mse\n",
    "    ridge.test(test_data)  # Assuming you also want to test it on test_data\n",
    "    ridge_mse_test = ridge.mse\n",
    "    \n",
    "    # Generate LaTeX table row\n",
    "    row = f\"{name} & {linear_mse_train:.4f} & {linear_mse_test:.4f} & {ridge_mse_train:.4f} & {ridge_mse_test:.4f} \\\\\\\\\"\n",
    "    table_rows.append(row)\n",
    "\n",
    "# Print the rows for inclusion in the LaTeX table\n",
    "for row in table_rows:\n",
    "    print(row)"
   ]
  },
  {
   "cell_type": "code",
   "execution_count": 85,
   "metadata": {},
   "outputs": [],
   "source": [
    "from lasso_regression import LassoRegression\n",
    "from data_utils import StandardScaler\n",
    "import numpy as np\n",
    "\n",
    "scaler = StandardScaler()\n",
    "lasso = LassoRegression(learning_rate=0.01, lasso_lambda=1)\n",
    "# Scale data\n",
    "X_train, Y_train = scaler.fit_transform(train_ny[:, :-1]), train_ny[:, -1] \n",
    "X_cal, Y_cal = scaler.transform(test_ny[:, :-1]), test_ny[:, -1]\n",
    "\n",
    "train_ny = np.hstack((X_train, Y_train.reshape(-1, 1)))\n",
    "test_ny = np.hstack((X_cal, Y_cal.reshape(-1, 1)))"
   ]
  },
  {
   "cell_type": "code",
   "execution_count": 86,
   "metadata": {},
   "outputs": [
    {
     "ename": "IndentationError",
     "evalue": "unexpected indent (2779341144.py, line 3)",
     "output_type": "error",
     "traceback": [
      "\u001b[0;36m  Cell \u001b[0;32mIn[86], line 3\u001b[0;36m\u001b[0m\n\u001b[0;31m    0.6849257934692432\u001b[0m\n\u001b[0m    ^\u001b[0m\n\u001b[0;31mIndentationError\u001b[0m\u001b[0;31m:\u001b[0m unexpected indent\n"
     ]
    }
   ],
   "source": [
    "lasso.train(train_ny)\n",
    "lasso.r_score()"
   ]
  },
  {
   "cell_type": "code",
   "execution_count": null,
   "metadata": {},
   "outputs": [
    {
     "data": {
      "text/plain": [
       "0.6689972958637062"
      ]
     },
     "execution_count": 51,
     "metadata": {},
     "output_type": "execute_result"
    }
   ],
   "source": [
    "lasso.test(test_ny)\n",
    "lasso.r_score()"
   ]
  },
  {
   "cell_type": "code",
   "execution_count": 92,
   "metadata": {},
   "outputs": [
    {
     "name": "stdout",
     "output_type": "stream",
     "text": [
      "0.6849 & 0.6849 & 0.6849 \\\\\n",
      "0.6690 & 0.6690 & 0.6690 \\\\\n",
      "0.6849 & 0.6849 & 0.6849 \\\\\n",
      "0.6690 & 0.6693 & 0.6690 \\\\\n",
      "0.6849 & 0.6849 & 0.6849 \\\\\n",
      "0.6690 & 0.6722 & 0.6690 \\\\\n",
      "0.6849 & 0.6812 & 0.6849 \\\\\n",
      "0.6690 & 0.6886 & 0.6690 \\\\\n",
      "0.6849 & 0.6271 & 0.6849 \\\\\n",
      "0.6690 & 0.6813 & 0.6690 \\\\\n",
      "0.6849 & 0.4239 & 0.6849 \\\\\n",
      "0.6690 & 0.4994 & 0.6691 \\\\\n",
      "0.6849 & 0.2973 & 0.6849 \\\\\n",
      "0.6690 & 0.3673 & 0.6703 \\\\\n"
     ]
    }
   ],
   "source": [
    "import data_utils\n",
    "\n",
    "lambdas = [0.01, 0.1, 1, 10, 100, 1000, 10000]\n",
    "# Initialize an empty list to store table rows\n",
    "table_rows = []\n",
    "\n",
    "# Iterate through datasets to train, test, and calculate scores\n",
    "for lambda_ in lambdas:\n",
    "    # Train and test linear regression\n",
    "    linear.train(train_ny)\n",
    "    linear_r2_train = linear.r_score()\n",
    "    linear.test(test_ny)\n",
    "    linear_r2_test = linear.r_score()\n",
    "\n",
    "    # Train and test ridge regression\n",
    "    ridge = RidgeRegression(lambda_)\n",
    "    ridge.train(train_ny)\n",
    "    ridge_r2_train = ridge.r_score()\n",
    "    ridge.test(test_ny)\n",
    "    ridge_r2_test = ridge.r_score()\n",
    "\n",
    "    # Train and test lasso regression\n",
    "    train_ny_norm, test_ny_norm = data_utils.normalize(train_ny, test_ny)\n",
    "    lasso = LassoRegression(learning_rate=0.01, lasso_lambda=lambda_)\n",
    "    lasso.train(train_ny_norm)\n",
    "    lasso_r2_train = lasso.r_score()\n",
    "    lasso.test(test_ny_norm)\n",
    "    lasso_r2_test = lasso.r_score()\n",
    "    \n",
    "    # Generate LaTeX table row\n",
    "    row_train = f\"{linear_r2_train:.4f} & {ridge_r2_train:.4f} & {lasso_r2_train:.4f} \\\\\\\\\"\n",
    "    table_rows.append(row_train)\n",
    "    row_test = f\"{linear_r2_test:.4f} & {ridge_r2_test:.4f} & {lasso_r2_test:.4f} \\\\\\\\\"\n",
    "    table_rows.append(row_test)\n",
    "\n",
    "# Print the rows for inclusion in the LaTeX table\n",
    "for row in table_rows:\n",
    "    print(row)"
   ]
  },
  {
   "cell_type": "code",
   "execution_count": 95,
   "metadata": {},
   "outputs": [
    {
     "name": "stdout",
     "output_type": "stream",
     "text": [
      "MSE Train, $\\lambda$=0.01 & 1131201804680.678223 & 1131201830894.109131 & 1131201804680.684326 \\\\\n",
      "MSE Test, $\\lambda$=0.01 & 887183715892.591309 & 887092867310.040405 & 887183709688.942627 \\\\\n",
      "MSE Train, $\\lambda$=0.1 & 1131201804680.678223 & 1131204404856.536377 & 1131201804680.701172 \\\\\n",
      "MSE Test, $\\lambda$=0.1 & 887183715892.591309 & 886280898437.117432 & 887183676875.032349 \\\\\n",
      "MSE Train, $\\lambda$=1 & 1131201804680.678223 & 1131442210851.430664 & 1131201804682.337402 \\\\\n",
      "MSE Test, $\\lambda$=1 & 887183715892.591309 & 878687791596.135376 & 887183348737.074219 \\\\\n",
      "MSE Train, $\\lambda$=10000 & 1131201804680.678223 & 2522857750183.595703 & 1131366673495.389160 \\\\\n",
      "MSE Test, $\\lambda$=10000 & 887183715892.591309 & 1695803393664.159424 & 883666227895.784790 \\\\\n"
     ]
    }
   ],
   "source": [
    "lambdas = [0.01, 0.1, 1, 10000]\n",
    "# Initialize an empty list to store table rows\n",
    "table_rows = []\n",
    "\n",
    "# Iterate through datasets to train, test, and calculate scores\n",
    "for lambda_ in lambdas:\n",
    "    # Train and test linear regression\n",
    "    linear.train(train_ny)\n",
    "    linear_mse_train = linear.mse\n",
    "    linear.test(test_ny)\n",
    "    linear_mse_test = linear.mse\n",
    "\n",
    "    # Train and test ridge regression\n",
    "    ridge = RidgeRegression(lambda_)\n",
    "    ridge.train(train_ny)\n",
    "    ridge_mse_train = ridge.mse\n",
    "    ridge.test(test_ny)\n",
    "    ridge_mse_test = ridge.mse\n",
    "\n",
    "    # Train and test lasso regression\n",
    "    train_ny_norm, test_ny_norm = data_utils.normalize(train_ny, test_ny)\n",
    "    lasso = LassoRegression(learning_rate=0.01, lasso_lambda=lambda_)\n",
    "    lasso.train(train_ny_norm)\n",
    "    lasso_mse_train = lasso.mse\n",
    "    lasso.test(test_ny_norm)\n",
    "    lasso_mse_test = lasso.mse\n",
    "    \n",
    "    # Generate LaTeX table row\n",
    "    row_train = f\"MSE Train, $\\lambda$={lambda_} & {linear_mse_train:4f} & {ridge_mse_train:4f} & {lasso_mse_train:4f} \\\\\\\\\"\n",
    "    table_rows.append(row_train)\n",
    "    row_test = f\"MSE Test, $\\lambda$={lambda_} & {linear_mse_test:4f} & {ridge_mse_test:4f} & {lasso_mse_test:4f} \\\\\\\\\"\n",
    "    table_rows.append(row_test)\n",
    "\n",
    "# Print the rows for inclusion in the LaTeX table\n",
    "for row in table_rows:\n",
    "    print(row)"
   ]
  },
  {
   "cell_type": "code",
   "execution_count": 102,
   "metadata": {},
   "outputs": [
    {
     "name": "stdout",
     "output_type": "stream",
     "text": [
      "R² Train, $\\lambda$=0.001 &0.9424 & 0.9412 & 0.9236 \\\\\n",
      "R² Test, $\\lambda$=0.001 & 0.8386 & 0.8490 & 0.8475 \\\\\n",
      "R² Train, $\\lambda$=0.01 &0.9424 & 0.9329 & 0.9179 \\\\\n",
      "R² Test, $\\lambda$=0.01 & 0.8386 & 0.8468 & 0.8507 \\\\\n",
      "R² Train, $\\lambda$=0.1 &0.9424 & 0.9127 & 0.8913 \\\\\n",
      "R² Test, $\\lambda$=0.1 & 0.8386 & 0.8601 & 0.8519 \\\\\n",
      "R² Train, $\\lambda$=1 &0.9424 & 0.8624 & 0.8005 \\\\\n",
      "R² Test, $\\lambda$=1 & 0.8386 & 0.8532 & 0.8042 \\\\\n",
      "R² Train, $\\lambda$=10 &0.9424 & 0.7560 & 0.0285 \\\\\n",
      "R² Test, $\\lambda$=10 & 0.8386 & 0.7540 & -0.0330 \\\\\n",
      "R² Train, $\\lambda$=100 &0.9424 & 0.5616 & -5.6971 \\\\\n",
      "R² Test, $\\lambda$=100 & 0.8386 & 0.5107 & -6.6408 \\\\\n",
      "R² Train, $\\lambda$=1000 &0.9424 & 0.2600 & -5.9200 \\\\\n",
      "R² Test, $\\lambda$=1000 & 0.8386 & 0.2418 & -7.2438 \\\\\n",
      "R² Train, $\\lambda$=10000 &0.9424 & 0.0491 & -1076.1532 \\\\\n",
      "R² Test, $\\lambda$=10000 & 0.8386 & 0.0444 & -1198.4267 \\\\\n"
     ]
    }
   ],
   "source": [
    "lambdas = [0.001, 0.01, 0.1, 1, 10, 100, 1000, 10000]\n",
    "table_rows = []\n",
    "for lambda_ in lambdas:\n",
    "    # Train and test linear regression\n",
    "    linear.train(train_ex)\n",
    "    linear_r2_train = linear.r_score()\n",
    "    linear.test(test_ex)\n",
    "    linear_r2_test = linear.r_score()\n",
    "\n",
    "    # Train and test ridge regression\n",
    "    ridge = RidgeRegression(lambda_)\n",
    "    ridge.train(train_ex)\n",
    "    ridge_r2_train = ridge.r_score()\n",
    "    ridge.test(test_ex)\n",
    "    ridge_r2_test = ridge.r_score()\n",
    "\n",
    "    # Train and test lasso regression\n",
    "    train_ex_norm, test_ex_norm = data_utils.normalize(train_ex, test_ex)\n",
    "    lasso = LassoRegression(learning_rate=0.001, lasso_lambda=lambda_, max_iterations=100000)\n",
    "    lasso.train(train_ex_norm)\n",
    "    lasso_r2_train = lasso.r_score()\n",
    "    lasso.test(test_ex_norm)\n",
    "    lasso_r2_test = lasso.r_score()\n",
    "    \n",
    "    # Generate LaTeX table row\n",
    "    row_train = f\"R² Train, $\\lambda$={lambda_} &{linear_r2_train:.4f} & {ridge_r2_train:.4f} & {lasso_r2_train:.4f} \\\\\\\\\"\n",
    "    table_rows.append(row_train)\n",
    "    row_test = f\"R² Test, $\\lambda$={lambda_} & {linear_r2_test:.4f} & {ridge_r2_test:.4f} & {lasso_r2_test:.4f} \\\\\\\\\"\n",
    "    table_rows.append(row_test)\n",
    "\n",
    "# Print the rows for inclusion in the LaTeX table\n",
    "for row in table_rows:\n",
    "    print(row)"
   ]
  },
  {
   "cell_type": "code",
   "execution_count": 105,
   "metadata": {},
   "outputs": [
    {
     "name": "stdout",
     "output_type": "stream",
     "text": [
      "MSE Train, $\\lambda$=0.001 & 4.992058 & 5.094776 & 6.623917 \\\\\n",
      "MSE Test, $\\lambda$=0.001 & 12.514891 & 11.708657 & 11.823062 \\\\\n",
      "MSE Train, $\\lambda$=0.01 & 4.992058 & 5.817922 & 7.110313 \\\\\n",
      "MSE Test, $\\lambda$=0.01 & 12.514891 & 11.877098 & 11.580209 \\\\\n",
      "MSE Train, $\\lambda$=0.1 & 4.992058 & 7.565534 & 9.417083 \\\\\n",
      "MSE Test, $\\lambda$=0.1 & 12.514891 & 10.852412 & 11.481876 \\\\\n",
      "MSE Train, $\\lambda$=1 & 4.992058 & 11.920993 & 17.284409 \\\\\n",
      "MSE Test, $\\lambda$=1 & 12.514891 & 11.380822 & 15.180454 \\\\\n",
      "MSE Train, $\\lambda$=10 & 4.992058 & 21.139848 & 84.178221 \\\\\n",
      "MSE Test, $\\lambda$=10 & 12.514891 & 19.073625 & 80.100986 \\\\\n",
      "MSE Train, $\\lambda$=100 & 4.992058 & 37.991240 & 580.313171 \\\\\n",
      "MSE Test, $\\lambda$=100 & 12.514891 & 37.943461 & 592.507255 \\\\\n",
      "MSE Train, $\\lambda$=1000 & 4.992058 & 64.123039 & 599.626693 \\\\\n",
      "MSE Test, $\\lambda$=1000 & 12.514891 & 58.796462 & 639.267247 \\\\\n",
      "MSE Train, $\\lambda$=10000 & 4.992058 & 82.400789 & 93336.915878 \\\\\n",
      "MSE Test, $\\lambda$=10000 & 12.514891 & 74.102807 & 93009.602144 \\\\\n"
     ]
    }
   ],
   "source": [
    "table_rows = []\n",
    "\n",
    "# Iterate through datasets to train, test, and calculate scores\n",
    "for lambda_ in lambdas:\n",
    "    # Train and test linear regression\n",
    "    linear.train(train_ex)\n",
    "    linear_mse_train = linear.mse\n",
    "    linear.test(test_ex)\n",
    "    linear_mse_test = linear.mse\n",
    "\n",
    "    # Train and test ridge regression\n",
    "    ridge = RidgeRegression(lambda_)\n",
    "    ridge.train(train_ex)\n",
    "    ridge_mse_train = ridge.mse\n",
    "    ridge.test(test_ex)\n",
    "    ridge_mse_test = ridge.mse\n",
    "\n",
    "    # Train and test lasso regression\n",
    "    train_ex_norm, test_ex_norm = data_utils.normalize(train_ex, test_ex)\n",
    "    lasso = LassoRegression(learning_rate=0.001, lasso_lambda=lambda_, max_iterations=100000)\n",
    "    lasso.train(train_ex_norm)\n",
    "    lasso_mse_train = lasso.mse\n",
    "    lasso.test(test_ex_norm)\n",
    "    lasso_mse_test = lasso.mse\n",
    "    \n",
    "    # Generate LaTeX table row\n",
    "    row_train = f\"MSE Train, $\\lambda$={lambda_} & {linear_mse_train:4f} & {ridge_mse_train:4f} & {lasso_mse_train:4f} \\\\\\\\\"\n",
    "    table_rows.append(row_train)\n",
    "    row_test = f\"MSE Test, $\\lambda$={lambda_} & {linear_mse_test:4f} & {ridge_mse_test:4f} & {lasso_mse_test:4f} \\\\\\\\\"\n",
    "    table_rows.append(row_test)\n",
    "\n",
    "# Print the rows for inclusion in the LaTeX table\n",
    "for row in table_rows:\n",
    "    print(row)"
   ]
  },
  {
   "cell_type": "code",
   "execution_count": 132,
   "metadata": {},
   "outputs": [
    {
     "name": "stdout",
     "output_type": "stream",
     "text": [
      "0.7431284333984453 0.7109490510811224\n",
      "0.7109490500115495\n",
      "0.7109489441056134\n",
      "0.7109479796688555\n",
      "0.7109381724757474\n",
      "0.7108249688856602\n",
      "0.7088448603056016\n",
      "0.680603052374997\n",
      "0.481450128872332\n",
      "0.13377719802633473\n",
      "Best lambda: 1e-05, with score: 0.7109490500115495\n",
      "Training Score:  0.7431284333984424  Test Score:  0.7109490500115495\n",
      "0.6957945311481435\n",
      "0.695453852808014\n",
      "0.6921680674912691\n",
      "0.6614694042374847\n",
      "0.3165927285992478\n",
      "0.12989623234958744\n",
      "-21.01479250087314\n",
      "-2177.2001085301367\n",
      "-217843.7638329285\n",
      "Best lambda: 1e-05, with score: 0.6957945311481435\n",
      "Training Score:  0.6957945311481435  Test Score:  0.6957945311481435\n",
      "0.7426053481547372 0.6952462278258061\n",
      "0.6952462274285774\n",
      "0.6952461880874437\n",
      "0.6952458290365582\n",
      "0.6952421003327834\n",
      "0.6951918991266728\n",
      "0.6939525700236697\n",
      "0.6744917596337123\n",
      "0.5051425252486503\n",
      "0.15120661435070298\n",
      "Best lambda: 1e-05, with score: 0.6952462274285774\n",
      "Training Score:  0.7426053481547351  Test Score:  0.6952462274285774\n",
      "0.6794962953103104\n",
      "0.6792109482857808\n",
      "0.6766024316957715\n",
      "0.6447093111758242\n",
      "0.3064369432962092\n",
      "0.1724055802122501\n",
      "-20.675310838661005\n",
      "-2151.9850915069064\n",
      "-215423.58483810612\n",
      "Best lambda: 1e-05, with score: 0.6794962953103104\n",
      "Training Score:  0.6794962953103104  Test Score:  0.6794962953103104\n",
      "0.7420521279562766 0.6986352789678076\n",
      "0.6986352802750716\n",
      "0.6986354096758405\n",
      "0.6986365843798532\n",
      "0.6986481671265666\n",
      "0.6987483906097813\n",
      "0.6987408911572612\n",
      "0.6838920028203173\n",
      "0.528281251226309\n",
      "0.1703967742966846\n",
      "Best lambda: 1, with score: 0.6987483906097813\n",
      "Training Score:  0.7420371336155209  Test Score:  0.6987483906097813\n",
      "0.6847275379328714\n",
      "0.6844641521016988\n",
      "0.681984163032462\n",
      "0.653827612304506\n",
      "0.31803907142849425\n",
      "0.007838261649813227\n",
      "-21.84502558220715\n",
      "-2260.298368887978\n",
      "-226165.31096191006\n",
      "Best lambda: 1e-05, with score: 0.6847275379328714\n",
      "Training Score:  0.6847275379328714  Test Score:  0.6847275379328714\n",
      "0.7413816744316533 0.6756287352582154\n",
      "0.6756287369856593\n",
      "0.6756289079840727\n",
      "0.675630460832432\n",
      "0.6756458233892906\n",
      "0.6757836437306681\n",
      "0.6761169617558733\n",
      "0.663350853677366\n",
      "0.5178777839631211\n",
      "0.16341262677123491\n",
      "Best lambda: 10, with score: 0.6761169617558733\n",
      "Training Score:  0.7404418512604619  Test Score:  0.6761169617558733\n",
      "0.6607445575800558\n",
      "0.6605132674804661\n",
      "0.6580359671313222\n",
      "0.631867474313984\n",
      "0.31194917119831567\n",
      "0.01773975116545708\n",
      "-22.3055044843161\n",
      "-2310.437039201661\n",
      "-231240.58462475147\n",
      "Best lambda: 1e-05, with score: 0.6607445575800558\n",
      "Training Score:  0.6607445575800558  Test Score:  0.6607445575800558\n"
     ]
    }
   ],
   "source": [
    "import model_selection\n",
    "lambdas = [0.00001, 0.001, 0.01, 0.1, 1, 10, 100, 1000, 10000]\n",
    "table_rows = []\n",
    "k_vals= [3, 5, 10, 20]\n",
    "data = np.concatenate((train_bos, test_bos), axis=0)\n",
    "for k in k_vals:\n",
    "    # Train and test linear regression\n",
    "    train_score, test_score = model_selection.k_fold_cross_validation(linear, data, k)\n",
    "    print(train_score, test_score)\n",
    "\n",
    "    # Train and test ridge regression\n",
    "    ridge = model_selection.lambda_ridge(data, k, lambdas, score=\"R-Squared\")\n",
    "\n",
    "    # Train and test lasso regression\n",
    "    lasso_model = LassoRegression(learning_rate=0.01, lasso_lambda=lambda_, max_iterations=100000)\n",
    "    lasso = model_selection.lambda_lasso(data, k, lambdas, lasso_model, score=\"R-Squared\")\n",
    "    print(k)"
   ]
  },
  {
   "cell_type": "code",
   "execution_count": 135,
   "metadata": {},
   "outputs": [
    {
     "name": "stdout",
     "output_type": "stream",
     "text": [
      "3\n",
      "0.6957945311481435\n",
      "0.695453852808014\n",
      "0.6921680674912691\n",
      "0.6614694042374847\n",
      "0.3165927285992478\n",
      "0.12989623234958744\n",
      "-21.01479250087314\n",
      "-2177.2001085301367\n",
      "-217843.7638329285\n",
      "Best lambda: 1e-05, with score: 0.6957945311481435\n",
      "Training Score:  0.7285787573849786  Test Score:  0.6957945311481435\n",
      "5\n",
      "0.6794962953103104\n",
      "0.6792109482857808\n",
      "0.6766024316957715\n",
      "0.6447093111758242\n",
      "0.3064369432962092\n",
      "0.1724055802122501\n",
      "-20.675310838661005\n",
      "-2151.9850915069064\n",
      "-215423.58483810612\n",
      "Best lambda: 1e-05, with score: 0.6794962953103104\n",
      "Training Score:  0.7278520356917545  Test Score:  0.6794962953103104\n",
      "10\n",
      "0.6847275379328714\n",
      "0.6844641521016988\n",
      "0.681984163032462\n",
      "0.653827612304506\n",
      "0.31803907142849425\n",
      "0.007838261649813227\n",
      "-21.84502558220715\n",
      "-2260.298368887978\n",
      "-226165.31096191006\n",
      "Best lambda: 1e-05, with score: 0.6847275379328714\n",
      "Training Score:  0.7268888034467762  Test Score:  0.6847275379328714\n",
      "20\n",
      "0.6607445575800558\n",
      "0.6605132674804661\n",
      "0.6580359671313222\n",
      "0.631867474313984\n",
      "0.31194917119831567\n",
      "0.01773975116545708\n",
      "-22.3055044843161\n",
      "-2310.437039201661\n",
      "-231240.58462475147\n",
      "Best lambda: 1e-05, with score: 0.6607445575800558\n",
      "Training Score:  0.7261224317724257  Test Score:  0.6607445575800558\n"
     ]
    }
   ],
   "source": [
    "import model_selection\n",
    "lambdas = [0.00001, 0.001, 0.01, 0.1, 1, 10, 100, 1000, 10000]\n",
    "table_rows = []\n",
    "k_vals= [3, 5, 10, 20]\n",
    "data = np.concatenate((train_bos, test_bos), axis=0)\n",
    "for k in k_vals:\n",
    "\n",
    "    # Train and test lasso regression\n",
    "    print(k)\n",
    "    lasso_model = LassoRegression(learning_rate=0.01, lasso_lambda=lambda_, max_iterations=100000)\n",
    "    lasso = model_selection.lambda_lasso(data, k, lambdas, lasso_model, score=\"R-Squared\")"
   ]
  },
  {
   "cell_type": "code",
   "execution_count": 115,
   "metadata": {},
   "outputs": [
    {
     "name": "stdout",
     "output_type": "stream",
     "text": [
      "Training Score:  0.7413816744316533  Test Score:  0.6756287352582154\n"
     ]
    },
    {
     "data": {
      "text/plain": [
       "0.6756287352582154"
      ]
     },
     "execution_count": 115,
     "metadata": {},
     "output_type": "execute_result"
    }
   ],
   "source": [
    "import model_selection\n",
    "lambdas = [0]\n",
    "model_selection.k_fold_cross_validation(linear, data, 20, \"R-Squared\")"
   ]
  },
  {
   "cell_type": "code",
   "execution_count": 125,
   "metadata": {},
   "outputs": [
    {
     "name": "stdout",
     "output_type": "stream",
     "text": [
      "Training Score:  0.25861832556834674  Test Score:  0.2853823109342325\n"
     ]
    },
    {
     "data": {
      "text/plain": [
       "0.2853823109342325"
      ]
     },
     "execution_count": 125,
     "metadata": {},
     "output_type": "execute_result"
    }
   ],
   "source": [
    "import model_selection\n",
    "model_selection.k_fold_cross_validation(linear, data, 20, \"MSE\")"
   ]
  },
  {
   "cell_type": "code",
   "execution_count": 139,
   "metadata": {},
   "outputs": [
    {
     "name": "stdout",
     "output_type": "stream",
     "text": [
      "3\n",
      "0.39152106975945244 0.5221775110253722\n",
      "0.5221775111963171\n",
      "0.5221775281198343\n",
      "0.5221776819759991\n",
      "0.522179221130802\n",
      "0.5221946718337014\n",
      "0.5223549360812957\n",
      "0.5244006250127974\n",
      "0.5479654270704912\n",
      "0.6173744941002681\n",
      "Best lambda: 1e-05, with score: 0.5221775111963171\n",
      "Training Score:  0.39152106975945244  Test Score:  0.5221775111963171\n",
      "0.5834564151061723\n",
      "0.5827991390961076\n",
      "0.5765058999853113\n",
      "0.49622790548985724\n",
      "0.7772543349359268\n",
      "1.2277043991608199\n",
      "6.16391166966086\n",
      "710.0009954768349\n",
      "75631.71931039862\n",
      "Best lambda: 0.1, with score: 0.49622790548985724\n",
      "Training Score:  0.49622790548985724  Test Score:  0.49622790548985724\n",
      "5\n",
      "0.39229293313327995 0.5669623080968587\n",
      "0.566962308244288\n",
      "0.5669623228395879\n",
      "0.5669624555280783\n",
      "0.5669637828015619\n",
      "0.5669770943013419\n",
      "0.5671139937691267\n",
      "0.5687823302011374\n",
      "0.5878266761303792\n",
      "0.6266707873083134\n",
      "Best lambda: 1e-05, with score: 0.566962308244288\n",
      "Training Score:  0.39229293313327995  Test Score:  0.566962308244288\n",
      "0.6334691433190912\n",
      "0.6324081064287606\n",
      "0.6223120324701725\n",
      "0.5107790601209232\n",
      "0.7780597811677508\n",
      "1.1459790909708456\n",
      "7.129356913908124\n",
      "810.5315983362555\n",
      "84832.02123934291\n",
      "Best lambda: 0.1, with score: 0.5107790601209232\n",
      "Training Score:  0.5107790601209232  Test Score:  0.5107790601209232\n",
      "10\n",
      "0.39360039502139943 0.3992318943912606\n",
      "0.3992318943837893\n",
      "0.3992318936441984\n",
      "0.39923188692553324\n",
      "0.39923182022314707\n",
      "0.3992312015528405\n",
      "0.39922977788204983\n",
      "0.39962765330501815\n",
      "0.4172394530437484\n",
      "0.5351858629162385\n",
      "Best lambda: 10, with score: 0.39922977788204983\n",
      "Training Score:  0.39360572329314125  Test Score:  0.39922977788204983\n",
      "0.4321336291886057\n",
      "0.43324170659776995\n",
      "0.4438385594227948\n",
      "0.4731038452539388\n",
      "0.7751246432233075\n",
      "0.9839736043802679\n",
      "3.3827275769244807\n",
      "252.1381266034526\n",
      "30124.60020274993\n",
      "Best lambda: 1e-05, with score: 0.4321336291886057\n",
      "Training Score:  0.4321336291886057  Test Score:  0.4321336291886057\n",
      "20\n",
      "0.3936849602688387 0.39945054458743046\n",
      "0.39945054458416096\n",
      "0.399450544260511\n",
      "0.3994505413225921\n",
      "0.3994505123743079\n",
      "0.399450265920254\n",
      "0.39945204306079435\n",
      "0.39983935167250095\n",
      "0.4164598140985679\n",
      "0.5303529644411411\n",
      "Best lambda: 1, with score: 0.399450265920254\n",
      "Training Score:  0.3936850087298033  Test Score:  0.399450265920254\n",
      "0.43262177086839715\n",
      "0.43372619391948736\n",
      "0.44428925389862906\n",
      "0.47307501113906525\n",
      "0.7747836086860818\n",
      "0.9897058613037831\n",
      "3.199763940412756\n",
      "256.47902827950986\n",
      "26976.37406822659\n",
      "Best lambda: 1e-05, with score: 0.43262177086839715\n",
      "Training Score:  0.43262177086839715  Test Score:  0.43262177086839715\n"
     ]
    }
   ],
   "source": [
    "import model_selection\n",
    "lambdas = [0.00001, 0.001, 0.01, 0.1, 1, 10, 100, 1000, 10000]\n",
    "k_vals= [3, 5, 10, 20]\n",
    "data = np.concatenate((train_cal, test_cal), axis=0)\n",
    "for k in k_vals:\n",
    "    print(k)\n",
    "    # Train and test linear regression\n",
    "    train_score, test_score = model_selection.k_fold_cross_validation(linear, data, k, score=\"MSE\")\n",
    "    print(train_score, test_score)\n",
    "\n",
    "    # Train and test ridge regression\n",
    "    ridge = model_selection.lambda_ridge(data, k, lambdas, score=\"MSE\")\n",
    "\n",
    "    # Train and test lasso regression\n",
    "    lasso_model = LassoRegression(learning_rate=0.01, lasso_lambda=lambda_, max_iterations=10000)\n",
    "    lasso = model_selection.lambda_lasso(data, k, lambdas, lasso_model, score=\"MSE\")"
   ]
  },
  {
   "cell_type": "code",
   "execution_count": 140,
   "metadata": {},
   "outputs": [
    {
     "name": "stdout",
     "output_type": "stream",
     "text": [
      "3\n",
      "0.6084789302405512 0.4819181859661367\n",
      "0.4819181858051766\n",
      "0.4819181698701367\n",
      "0.48191802499998776\n",
      "0.4819165756910942\n",
      "0.4819020220235632\n",
      "0.48175058686937094\n",
      "0.4797801128942926\n",
      "0.4562817516953255\n",
      "0.38435204314742305\n",
      "Best lambda: 1e-05, with score: 0.4819181858051766\n",
      "Training Score:  0.6084789302405512  Test Score:  0.4819181858051766\n",
      "0.42180329799706867\n",
      "0.4224011186785601\n",
      "0.42811843830058943\n",
      "0.5046190605843127\n",
      "0.2227885600983606\n",
      "-0.21932578507690226\n",
      "-5.018555313010094\n",
      "-690.6825441206328\n",
      "-73644.50144283567\n",
      "Best lambda: 0.1, with score: 0.5046190605843127\n",
      "Training Score:  0.528817931327174  Test Score:  0.5046190605843127\n",
      "5\n",
      "0.6077070668667197 0.44052121501189284\n",
      "0.44052121487531315\n",
      "0.4405212013541083\n",
      "0.4405210784299827\n",
      "0.44051984878646433\n",
      "0.4405075122188615\n",
      "0.44038022609840893\n",
      "0.4387951794652166\n",
      "0.4198238776234236\n",
      "0.37688627889411175\n",
      "Best lambda: 1e-05, with score: 0.44052121487531315\n",
      "Training Score:  0.6077070668667195  Test Score:  0.44052121487531315\n",
      "0.3757880017270572\n",
      "0.37674896979504446\n",
      "0.3858850199592802\n",
      "0.4908800906061327\n",
      "0.2219344027770917\n",
      "-0.13872446575442737\n",
      "-5.921587715831716\n",
      "-780.2058103730617\n",
      "-81821.21719308721\n",
      "Best lambda: 0.1, with score: 0.4908800906061327\n",
      "Training Score:  0.5283306030553564  Test Score:  0.4908800906061327\n",
      "10\n",
      "0.6063996049786018 0.6006594803796682\n",
      "0.6006594803896863\n",
      "0.6006594813814088\n",
      "0.6006594903921594\n",
      "0.6006595800133594\n",
      "0.6006604276679395\n",
      "0.6006641209049051\n",
      "0.6002870210939033\n",
      "0.5827676095357561\n",
      "0.46469372113615615\n",
      "Best lambda: 10, with score: 0.6006641209049051\n",
      "Training Score:  0.6063942767068597  Test Score:  0.6006641209049051\n",
      "0.5679522330838523\n",
      "0.5668404134942908\n",
      "0.5562052605583301\n",
      "0.5267602702609292\n",
      "0.2244731263713362\n",
      "0.014484464007517994\n",
      "-2.3505736392093675\n",
      "-247.4797257606177\n",
      "-29719.636975649406\n",
      "Best lambda: 1e-05, with score: 0.5679522330838523\n",
      "Training Score:  0.5738927720037944  Test Score:  0.5679522330838523\n",
      "20\n",
      "0.6063150397311606 0.6000436636384061\n",
      "0.6000436636419048\n",
      "0.6000436639882348\n",
      "0.6000436671323233\n",
      "0.6000436981408361\n",
      "0.6000439650508739\n",
      "0.6000423780611243\n",
      "0.5996557275595287\n",
      "0.5830031303891925\n",
      "0.46900519586977013\n",
      "Best lambda: 1, with score: 0.6000439650508739\n",
      "Training Score:  0.6063149912701958  Test Score:  0.6000439650508739\n",
      "0.5667745225526797\n",
      "0.5656619997528453\n",
      "0.555032842238358\n",
      "0.5260895012356456\n",
      "0.2244654924510045\n",
      "0.009360372788159144\n",
      "-2.1753130401331635\n",
      "-252.88545453411467\n",
      "-26685.10182207812\n",
      "Best lambda: 1e-05, with score: 0.5667745225526797\n",
      "Training Score:  0.5738105525116621  Test Score:  0.5667745225526797\n"
     ]
    }
   ],
   "source": [
    "import model_selection\n",
    "lambdas = [0.00001, 0.001, 0.01, 0.1, 1, 10, 100, 1000, 10000]\n",
    "k_vals= [3, 5, 10, 20]\n",
    "data = np.concatenate((train_cal, test_cal), axis=0)\n",
    "for k in k_vals:\n",
    "    print(k)\n",
    "    # Train and test linear regression\n",
    "    train_score, test_score = model_selection.k_fold_cross_validation(linear, data, k, score=\"R-Squared\")\n",
    "    print(train_score, test_score)\n",
    "\n",
    "    # Train and test ridge regression\n",
    "    ridge = model_selection.lambda_ridge(data, k, lambdas, score=\"R-Squared\")\n",
    "\n",
    "    # Train and test lasso regression\n",
    "    lasso_model = LassoRegression(learning_rate=0.01, lasso_lambda=lambda_, max_iterations=10000)\n",
    "    lasso = model_selection.lambda_lasso(data, k, lambdas, lasso_model, score=\"R-Squared\")"
   ]
  },
  {
   "cell_type": "code",
   "execution_count": 182,
   "metadata": {},
   "outputs": [],
   "source": [
    "from sklearn.model_selection import train_test_split\n",
    "def mean_intervals_cp(model, train_data, test_data):\n",
    "    confidence_levels = [0.90, 0.95, 0.99]\n",
    "\n",
    "    new_train_data , calibration_data = train_test_split(train_data, test_size=0.25, random_state=17)\n",
    "    X_train, Y_train = scaler.fit_transform(new_train_data[:, :-1]), new_train_data[:, -1] \n",
    "    X_cal, Y_cal = scaler.transform(calibration_data[:, :-1]), calibration_data[:, -1]\n",
    "    X_test, Y_test= scaler.transform(test_data[:, :-1]), test_data[:, -1]\n",
    "\n",
    "    train_data = np.hstack((X_train, Y_train.reshape(-1, 1)))\n",
    "    calibration_data = np.hstack((X_cal, Y_cal.reshape(-1, 1)))\n",
    "    test_data = np.hstack((X_test, Y_test.reshape(-1, 1)))\n",
    "\n",
    "\n",
    "    for confidence_level in confidence_levels:\n",
    "        prediction_intervals_cp = model.conformal_prediction(new_train_data, calibration_data, test_data, confidence_level)\n",
    "        print(\"confidence:\", confidence_level)\n",
    "        interval_widths_cp = [upper - lower for lower, upper in prediction_intervals_cp]\n",
    "        print(\"Mean:\", (sum(interval_widths_cp)/len(interval_widths_cp)))\n",
    "        print(\"Error Rate:\",model.calculate_error_rate(test_data, prediction_intervals_cp))\n"
   ]
  },
  {
   "cell_type": "code",
   "execution_count": 156,
   "metadata": {},
   "outputs": [
    {
     "name": "stdout",
     "output_type": "stream",
     "text": [
      "confidence: 0.9\n",
      "Mean: 2800601.3215383096\n",
      "Error Rate: 0.125\n",
      "confidence: 0.95\n",
      "Mean: 4981366.474653732\n",
      "Error Rate: 0.014705882352941176\n",
      "confidence: 0.99\n",
      "Mean: 8116084.898131702\n",
      "Error Rate: 0.007352941176470588\n"
     ]
    }
   ],
   "source": [
    "ridge = RidgeRegression(1)\n",
    "mean_intervals_cp(ridge, train_ny, test_ny)"
   ]
  },
  {
   "cell_type": "code",
   "execution_count": 163,
   "metadata": {},
   "outputs": [],
   "source": [
    "def mean_intervals_ccp(model, data, test_data):\n",
    "    confidence_levels = [0.90, 0.95, 0.99]\n",
    "    k_vals = [3, 5, 10, 20]\n",
    "    for k in k_vals:\n",
    "        for confidence_level in confidence_levels:\n",
    "            print(\"k:\", k)\n",
    "            prediction_intervals_cp = model.cross_conformal_prediction(k, data, test_data, confidence_level)\n",
    "            print(\"confidence:\", confidence_level)\n",
    "            interval_widths_ccp = [upper - lower for lower, upper in prediction_intervals_cp]\n",
    "            print(\"Mean:\", (sum(interval_widths_ccp)/len(interval_widths_ccp)))\n",
    "            print(\"Error Rate:\",model.calculate_error_rate(test_data, prediction_intervals_cp))\n"
   ]
  },
  {
   "cell_type": "code",
   "execution_count": 164,
   "metadata": {},
   "outputs": [
    {
     "name": "stdout",
     "output_type": "stream",
     "text": [
      "k: 3\n",
      "confidence: 0.9\n",
      "Mean: 3464865.3735445268\n",
      "Error Rate: 0.058823529411764705\n",
      "k: 3\n",
      "confidence: 0.95\n",
      "Mean: 4466636.512581694\n",
      "Error Rate: 0.022058823529411766\n",
      "k: 3\n",
      "confidence: 0.99\n",
      "Mean: 6934533.646165706\n",
      "Error Rate: 0.007352941176470588\n",
      "k: 5\n",
      "confidence: 0.9\n",
      "Mean: 3360657.6316839596\n",
      "Error Rate: 0.07352941176470588\n",
      "k: 5\n",
      "confidence: 0.95\n",
      "Mean: 4330331.035461546\n",
      "Error Rate: 0.022058823529411766\n",
      "k: 5\n",
      "confidence: 0.99\n",
      "Mean: 6732799.149691198\n",
      "Error Rate: 0.007352941176470588\n",
      "k: 10\n",
      "confidence: 0.9\n",
      "Mean: 3344532.0247160057\n",
      "Error Rate: 0.07352941176470588\n",
      "k: 10\n",
      "confidence: 0.95\n",
      "Mean: 4323354.817622951\n",
      "Error Rate: 0.022058823529411766\n",
      "k: 10\n",
      "confidence: 0.99\n",
      "Mean: 6713494.516999253\n",
      "Error Rate: 0.007352941176470588\n",
      "k: 20\n",
      "confidence: 0.9\n",
      "Mean: 3390318.0012435773\n",
      "Error Rate: 0.0661764705882353\n",
      "k: 20\n",
      "confidence: 0.95\n",
      "Mean: 4361738.511248006\n",
      "Error Rate: 0.022058823529411766\n",
      "k: 20\n",
      "confidence: 0.99\n",
      "Mean: 6722107.962122799\n",
      "Error Rate: 0.007352941176470588\n"
     ]
    }
   ],
   "source": [
    "data = np.concatenate((train_ny, test_ny), axis=0)\n",
    "mean_intervals_ccp(ridge, data, test_ny)"
   ]
  },
  {
   "cell_type": "code",
   "execution_count": 269,
   "metadata": {},
   "outputs": [],
   "source": [
    "def mean_intervals_ccp(model, train_data, test_data):\n",
    "    confidence_levels = [0.90, 0.95, 0.99]\n",
    "    k_vals = [3, 5, 10, 20]\n",
    "    results = []  # Store the formatted string results here\n",
    "    data = np.concatenate((train_data, test_data), axis=0)\n",
    "\n",
    "    for k in k_vals:\n",
    "        mean_widths = []\n",
    "        error_rates = []\n",
    "        for confidence_level in confidence_levels:\n",
    "            prediction_intervals_cp = model.cross_conformal_prediction(k, data, test_data, confidence_level)\n",
    "            interval_widths_ccp = [upper - lower for lower, upper in prediction_intervals_cp]\n",
    "            mean_width = sum(interval_widths_ccp) / len(interval_widths_ccp)\n",
    "            error_rate = model.calculate_error_rate(test_data, prediction_intervals_cp)\n",
    "            \n",
    "            # Store the mean width and error rate for each confidence level\n",
    "            mean_widths.append(f\"{mean_width:.3f}\")\n",
    "            error_rates.append(f\"{error_rate:.4f}\")\n",
    "\n",
    "        # Combine the mean widths and error rates into one string for the row\n",
    "        row_result = f\"  CCP \\\\( k = {k} \\\\) & \" + \" & \".join(mean_widths + error_rates) + \" \\\\\\\\\"\n",
    "        results.append(row_result)\n",
    "    \n",
    "    # Print all the results\n",
    "    for result in results:\n",
    "        print(result)\n"
   ]
  },
  {
   "cell_type": "code",
   "execution_count": 168,
   "metadata": {},
   "outputs": [
    {
     "name": "stdout",
     "output_type": "stream",
     "text": [
      "  CCP \\( k = 3 \\) & 3464865.374 & 4466636.513 & 6934533.646 & 0.0588 & 0.0221 & 0.0074 \\\\\n",
      "  CCP \\( k = 5 \\) & 3360657.632 & 4330331.035 & 6732799.150 & 0.0735 & 0.0221 & 0.0074 \\\\\n",
      "  CCP \\( k = 10 \\) & 3344532.025 & 4323354.818 & 6713494.517 & 0.0735 & 0.0221 & 0.0074 \\\\\n",
      "  CCP \\( k = 20 \\) & 3390318.001 & 4361738.511 & 6722107.962 & 0.0662 & 0.0221 & 0.0074 \\\\\n"
     ]
    }
   ],
   "source": [
    "mean_intervals_ccp(ridge, data, test_ny)"
   ]
  },
  {
   "cell_type": "code",
   "execution_count": 170,
   "metadata": {},
   "outputs": [
    {
     "name": "stdout",
     "output_type": "stream",
     "text": [
      "confidence: 0.9\n",
      "Mean: 11.209009706212557\n",
      "Error Rate: 0.031496062992125984\n",
      "confidence: 0.95\n",
      "Mean: 15.353630373135928\n",
      "Error Rate: 0.015748031496062992\n",
      "confidence: 0.99\n",
      "Mean: 32.48991416876643\n",
      "Error Rate: 0.007874015748031496\n"
     ]
    }
   ],
   "source": [
    "mean_intervals_cp(ridge, train_ex, test_ex)"
   ]
  },
  {
   "cell_type": "code",
   "execution_count": 171,
   "metadata": {},
   "outputs": [
    {
     "name": "stdout",
     "output_type": "stream",
     "text": [
      "  CCP \\( k = 3 \\) & 10.569 & 13.501 & 21.850 & 0.0394 & 0.0236 & 0.0079 \\\\\n",
      "  CCP \\( k = 5 \\) & 9.974 & 12.131 & 24.733 & 0.0551 & 0.0236 & 0.0079 \\\\\n",
      "  CCP \\( k = 10 \\) & 10.078 & 12.895 & 25.280 & 0.0551 & 0.0236 & 0.0079 \\\\\n",
      "  CCP \\( k = 20 \\) & 10.598 & 12.900 & 25.630 & 0.0394 & 0.0236 & 0.0079 \\\\\n"
     ]
    }
   ],
   "source": [
    "mean_intervals_ccp(ridge, train_ex, test_ex)"
   ]
  },
  {
   "cell_type": "code",
   "execution_count": 240,
   "metadata": {},
   "outputs": [
    {
     "name": "stdout",
     "output_type": "stream",
     "text": [
      "confidence: 0.9\n",
      "Mean: 70.67356919351188\n",
      "Error Rate: 0.11811023622047244\n",
      "confidence: 0.95\n",
      "Mean: 97.56933187600396\n",
      "Error Rate: 0.023622047244094488\n",
      "confidence: 0.99\n",
      "Mean: 99.98153771020716\n",
      "Error Rate: 0.007874015748031496\n"
     ]
    }
   ],
   "source": [
    "lasso_model = LassoRegression(learning_rate=0.00000001, lasso_lambda=0.00001, max_iterations=10000)\n",
    "mean_intervals_cp(lasso_model, train_bos, test_bos)"
   ]
  },
  {
   "cell_type": "code",
   "execution_count": 241,
   "metadata": {},
   "outputs": [
    {
     "name": "stdout",
     "output_type": "stream",
     "text": [
      "  CCP \\( k = 3 \\) & 69.573 & 86.774 & 99.985 & 0.0 & 0.0 & 0.0 \\\\\n",
      "  CCP \\( k = 5 \\) & 69.573 & 86.774 & 99.984 & 0.0 & 0.0 & 0.0 \\\\\n",
      "  CCP \\( k = 10 \\) & 69.573 & 86.774 & 99.984 & 0.0 & 0.0 & 0.0 \\\\\n",
      "  CCP \\( k = 20 \\) & 69.573 & 86.774 & 99.984 & 0.0 & 0.0 & 0.0 \\\\\n"
     ]
    }
   ],
   "source": [
    "mean_intervals_ccp(lasso_model, train_bos, test_bos)"
   ]
  },
  {
   "cell_type": "code",
   "execution_count": 223,
   "metadata": {},
   "outputs": [
    {
     "name": "stdout",
     "output_type": "stream",
     "text": [
      "confidence: 0.9\n",
      "Mean: 81.89522908248172\n",
      "Error Rate: 0.09864341085271318\n",
      "confidence: 0.95\n",
      "Mean: 82.97499191477574\n",
      "Error Rate: 0.05368217054263566\n",
      "confidence: 0.99\n",
      "Mean: 84.58339555881774\n",
      "Error Rate: 0.011046511627906977\n"
     ]
    }
   ],
   "source": [
    "mean_intervals_cp(linear, train_cal, test_cal)"
   ]
  },
  {
   "cell_type": "code",
   "execution_count": 271,
   "metadata": {},
   "outputs": [
    {
     "name": "stdout",
     "output_type": "stream",
     "text": [
      "  CCP \\( k = 3 \\) & 2.155 & 3.002 & 4.937 & 0.0990 & 0.0500 & 0.0103 \\\\\n",
      "  CCP \\( k = 5 \\) & 2.151 & 3.007 & 4.951 & 0.0992 & 0.0498 & 0.0103 \\\\\n",
      "  CCP \\( k = 10 \\) & 2.155 & 3.004 & 4.949 & 0.0990 & 0.0500 & 0.0103 \\\\\n",
      "  CCP \\( k = 20 \\) & 2.157 & 3.013 & 4.942 & 0.0988 & 0.0496 & 0.0103 \\\\\n"
     ]
    }
   ],
   "source": [
    "mean_intervals_ccp(linear, train_cal, test_cal)"
   ]
  },
  {
   "cell_type": "code",
   "execution_count": 225,
   "metadata": {},
   "outputs": [
    {
     "name": "stdout",
     "output_type": "stream",
     "text": [
      "confidence: 0.9\n",
      "Mean: 68.03198409099963\n",
      "Error Rate: 0.14173228346456693\n",
      "confidence: 0.95\n",
      "Mean: 70.28145047016375\n",
      "Error Rate: 0.11023622047244094\n",
      "confidence: 0.99\n",
      "Mean: 73.60123312806233\n",
      "Error Rate: 0.06299212598425197\n"
     ]
    }
   ],
   "source": [
    "mean_intervals_cp(linear, train_bos, test_bos)"
   ]
  },
  {
   "cell_type": "code",
   "execution_count": 270,
   "metadata": {},
   "outputs": [
    {
     "name": "stdout",
     "output_type": "stream",
     "text": [
      "  CCP \\( k = 3 \\) & 13.733 & 19.987 & 35.817 & 0.0394 & 0.0236 & 0.0079 \\\\\n",
      "  CCP \\( k = 5 \\) & 14.041 & 18.889 & 33.014 & 0.0315 & 0.0236 & 0.0079 \\\\\n",
      "  CCP \\( k = 10 \\) & 13.866 & 19.266 & 34.406 & 0.0394 & 0.0236 & 0.0079 \\\\\n",
      "  CCP \\( k = 20 \\) & 13.865 & 19.134 & 33.682 & 0.0394 & 0.0236 & 0.0079 \\\\\n"
     ]
    }
   ],
   "source": [
    "mean_intervals_ccp(linear, train_bos, test_bos)"
   ]
  },
  {
   "cell_type": "code",
   "execution_count": 268,
   "metadata": {},
   "outputs": [
    {
     "name": "stdout",
     "output_type": "stream",
     "text": [
      "confidence: 0.9\n",
      "Mean: 32.34289441821704\n",
      "Error Rate: 0.07874015748031496\n",
      "confidence: 0.95\n",
      "Mean: 37.5038524031669\n",
      "Error Rate: 0.007874015748031496\n",
      "confidence: 0.99\n",
      "Mean: 47.60590954788406\n",
      "Error Rate: 0.0\n"
     ]
    }
   ],
   "source": [
    "ridge = RidgeRegression(10)\n",
    "mean_intervals_cp(ridge, train_bos, test_bos)"
   ]
  },
  {
   "cell_type": "code",
   "execution_count": 267,
   "metadata": {},
   "outputs": [
    {
     "name": "stdout",
     "output_type": "stream",
     "text": [
      "  CCP \\( k = 3 \\) & 13.629 & 20.066 & 35.856 & 0.047244094488188976 & 0.023622047244094488 & 0.007874015748031496 \\\\\n",
      "  CCP \\( k = 5 \\) & 14.019 & 18.794 & 33.098 & 0.031496062992125984 & 0.023622047244094488 & 0.007874015748031496 \\\\\n",
      "  CCP \\( k = 10 \\) & 13.838 & 19.227 & 34.435 & 0.047244094488188976 & 0.023622047244094488 & 0.007874015748031496 \\\\\n",
      "  CCP \\( k = 20 \\) & 13.928 & 19.149 & 33.714 & 0.047244094488188976 & 0.023622047244094488 & 0.007874015748031496 \\\\\n"
     ]
    }
   ],
   "source": [
    "mean_intervals_ccp(ridge, train_bos, test_bos)"
   ]
  },
  {
   "cell_type": "code",
   "execution_count": 5,
   "metadata": {},
   "outputs": [
    {
     "data": {
      "image/png": "[encoded data removed]",
      "text/plain": [
       "<Figure size 800x600 with 1 Axes>"
      ]
     },
     "metadata": {},
     "output_type": "display_data"
    }
   ],
   "source": [
    "import numpy as np\n",
    "data = np.concatenate((train_cal, test_cal), axis=0)\n",
    "\n",
    "linear.cross_conformal_calibration_curve(data, test_cal, np.linspace(0, 1, 100))"
   ]
  },
  {
   "cell_type": "code",
   "execution_count": 282,
   "metadata": {},
   "outputs": [
    {
     "data": {
      "image/png": "[encoded data removed]",
      "text/plain": [
       "<Figure size 800x600 with 1 Axes>"
      ]
     },
     "metadata": {},
     "output_type": "display_data"
    }
   ],
   "source": [
    "data = np.concatenate((train_bos, test_bos), axis=0)\n",
    "\n",
    "linear.cross_conformal_calibration_curve(data, test_bos, np.linspace(0, 1, 100))"
   ]
  },
  {
   "cell_type": "code",
   "execution_count": null,
   "metadata": {},
   "outputs": [],
   "source": []
  }
 ],
 "metadata": {
  "kernelspec": {
   "display_name": "base",
   "language": "python",
   "name": "python3"
  },
  "language_info": {
   "codemirror_mode": {
    "name": "ipython",
    "version": 3
   },
   "file_extension": ".py",
   "mimetype": "text/x-python",
   "name": "python",
   "nbconvert_exporter": "python",
   "pygments_lexer": "ipython3",
   "version": "3.10.9"
  }
 },
 "nbformat": 4,
 "nbformat_minor": 2
}
